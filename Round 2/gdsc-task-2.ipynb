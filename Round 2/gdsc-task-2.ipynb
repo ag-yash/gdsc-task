{
 "cells": [
  {
   "cell_type": "markdown",
   "id": "7fe3f871",
   "metadata": {},
   "source": [
    "### Importing Pandas and NumPy"
   ]
  },
  {
   "cell_type": "code",
   "execution_count": 1026,
   "id": "abf7d0bd",
   "metadata": {},
   "outputs": [],
   "source": [
    "import numpy as np\n",
    "import pandas as pd"
   ]
  },
  {
   "cell_type": "markdown",
   "id": "f1e50b27",
   "metadata": {},
   "source": [
    "### Reading the dataset"
   ]
  },
  {
   "cell_type": "code",
   "execution_count": 1027,
   "id": "0761736b",
   "metadata": {},
   "outputs": [],
   "source": [
    "df = pd.read_csv(\"Dataset - Heart_Disease_Prediction (1).csv\")\n",
    "input = [58, 1, 2, 141, 297, 155, 0]"
   ]
  },
  {
   "cell_type": "code",
   "execution_count": 1028,
   "id": "9898aa72",
   "metadata": {},
   "outputs": [
    {
     "data": {
      "text/plain": [
       "Index(['Age', 'Sex', 'Chest pain type', 'BP', 'Cholesterol', 'Max HR',\n",
       "       'FBS over 120', 'Heart Disease'],\n",
       "      dtype='object')"
      ]
     },
     "execution_count": 1028,
     "metadata": {},
     "output_type": "execute_result"
    }
   ],
   "source": [
    "df.columns"
   ]
  },
  {
   "cell_type": "code",
   "execution_count": 1029,
   "id": "febcd945",
   "metadata": {},
   "outputs": [
    {
     "data": {
      "text/html": [
       "<div>\n",
       "<style scoped>\n",
       "    .dataframe tbody tr th:only-of-type {\n",
       "        vertical-align: middle;\n",
       "    }\n",
       "\n",
       "    .dataframe tbody tr th {\n",
       "        vertical-align: top;\n",
       "    }\n",
       "\n",
       "    .dataframe thead th {\n",
       "        text-align: right;\n",
       "    }\n",
       "</style>\n",
       "<table border=\"1\" class=\"dataframe\">\n",
       "  <thead>\n",
       "    <tr style=\"text-align: right;\">\n",
       "      <th></th>\n",
       "      <th>Age</th>\n",
       "      <th>Sex</th>\n",
       "      <th>Chest pain type</th>\n",
       "      <th>BP</th>\n",
       "      <th>Cholesterol</th>\n",
       "      <th>Max HR</th>\n",
       "      <th>FBS over 120</th>\n",
       "      <th>Heart Disease</th>\n",
       "    </tr>\n",
       "  </thead>\n",
       "  <tbody>\n",
       "    <tr>\n",
       "      <th>0</th>\n",
       "      <td>65</td>\n",
       "      <td>1</td>\n",
       "      <td>4</td>\n",
       "      <td>130</td>\n",
       "      <td>322</td>\n",
       "      <td>109</td>\n",
       "      <td>0</td>\n",
       "      <td>Presence</td>\n",
       "    </tr>\n",
       "    <tr>\n",
       "      <th>1</th>\n",
       "      <td>51</td>\n",
       "      <td>0</td>\n",
       "      <td>3</td>\n",
       "      <td>115</td>\n",
       "      <td>564</td>\n",
       "      <td>160</td>\n",
       "      <td>0</td>\n",
       "      <td>Absence</td>\n",
       "    </tr>\n",
       "    <tr>\n",
       "      <th>2</th>\n",
       "      <td>59</td>\n",
       "      <td>1</td>\n",
       "      <td>2</td>\n",
       "      <td>124</td>\n",
       "      <td>261</td>\n",
       "      <td>141</td>\n",
       "      <td>0</td>\n",
       "      <td>Presence</td>\n",
       "    </tr>\n",
       "    <tr>\n",
       "      <th>3</th>\n",
       "      <td>48</td>\n",
       "      <td>1</td>\n",
       "      <td>4</td>\n",
       "      <td>128</td>\n",
       "      <td>263</td>\n",
       "      <td>105</td>\n",
       "      <td>0</td>\n",
       "      <td>Absence</td>\n",
       "    </tr>\n",
       "    <tr>\n",
       "      <th>4</th>\n",
       "      <td>73</td>\n",
       "      <td>0</td>\n",
       "      <td>2</td>\n",
       "      <td>120</td>\n",
       "      <td>269</td>\n",
       "      <td>121</td>\n",
       "      <td>0</td>\n",
       "      <td>Absence</td>\n",
       "    </tr>\n",
       "  </tbody>\n",
       "</table>\n",
       "</div>"
      ],
      "text/plain": [
       "   Age  Sex  Chest pain type   BP  Cholesterol  Max HR  FBS over 120  \\\n",
       "0   65    1                4  130          322     109             0   \n",
       "1   51    0                3  115          564     160             0   \n",
       "2   59    1                2  124          261     141             0   \n",
       "3   48    1                4  128          263     105             0   \n",
       "4   73    0                2  120          269     121             0   \n",
       "\n",
       "  Heart Disease  \n",
       "0      Presence  \n",
       "1       Absence  \n",
       "2      Presence  \n",
       "3       Absence  \n",
       "4       Absence  "
      ]
     },
     "execution_count": 1029,
     "metadata": {},
     "output_type": "execute_result"
    }
   ],
   "source": [
    "df.head()"
   ]
  },
  {
   "cell_type": "code",
   "execution_count": 1030,
   "id": "e56fd115",
   "metadata": {},
   "outputs": [
    {
     "name": "stdout",
     "output_type": "stream",
     "text": [
      "<class 'pandas.core.frame.DataFrame'>\n",
      "RangeIndex: 250 entries, 0 to 249\n",
      "Data columns (total 8 columns):\n",
      " #   Column           Non-Null Count  Dtype \n",
      "---  ------           --------------  ----- \n",
      " 0   Age              250 non-null    int64 \n",
      " 1   Sex              250 non-null    int64 \n",
      " 2   Chest pain type  250 non-null    int64 \n",
      " 3   BP               250 non-null    int64 \n",
      " 4   Cholesterol      250 non-null    int64 \n",
      " 5   Max HR           250 non-null    int64 \n",
      " 6   FBS over 120     250 non-null    int64 \n",
      " 7   Heart Disease    250 non-null    object\n",
      "dtypes: int64(7), object(1)\n",
      "memory usage: 15.8+ KB\n"
     ]
    }
   ],
   "source": [
    "df.info()"
   ]
  },
  {
   "cell_type": "markdown",
   "id": "734233f8",
   "metadata": {},
   "source": [
    "### Preparing the dataset"
   ]
  },
  {
   "cell_type": "code",
   "execution_count": 1031,
   "id": "f8960cf7",
   "metadata": {},
   "outputs": [],
   "source": [
    "x_df = df.drop([\"Heart Disease\"], axis = 1)"
   ]
  },
  {
   "cell_type": "code",
   "execution_count": 1032,
   "id": "3ce0fa3c",
   "metadata": {},
   "outputs": [],
   "source": [
    "y_df = df[\"Heart Disease\"]"
   ]
  },
  {
   "cell_type": "markdown",
   "id": "8439a52f",
   "metadata": {},
   "source": [
    "###### In the below cell, we are replacing strings 'Presence' and 'Absence' with integers 1 and 0 so that it can be read by the model."
   ]
  },
  {
   "cell_type": "code",
   "execution_count": 1033,
   "id": "4cc818be",
   "metadata": {},
   "outputs": [],
   "source": [
    "y_df.replace({'Presence': 1, 'Absence': 0}, inplace = True)"
   ]
  },
  {
   "cell_type": "code",
   "execution_count": 1034,
   "id": "cd51250d",
   "metadata": {},
   "outputs": [
    {
     "data": {
      "text/plain": [
       "0    1\n",
       "1    0\n",
       "2    1\n",
       "3    0\n",
       "4    0\n",
       "Name: Heart Disease, dtype: int64"
      ]
     },
     "execution_count": 1034,
     "metadata": {},
     "output_type": "execute_result"
    }
   ],
   "source": [
    "y_df.head()"
   ]
  },
  {
   "cell_type": "code",
   "execution_count": 1035,
   "id": "4f44903d",
   "metadata": {},
   "outputs": [
    {
     "data": {
      "text/html": [
       "<div>\n",
       "<style scoped>\n",
       "    .dataframe tbody tr th:only-of-type {\n",
       "        vertical-align: middle;\n",
       "    }\n",
       "\n",
       "    .dataframe tbody tr th {\n",
       "        vertical-align: top;\n",
       "    }\n",
       "\n",
       "    .dataframe thead th {\n",
       "        text-align: right;\n",
       "    }\n",
       "</style>\n",
       "<table border=\"1\" class=\"dataframe\">\n",
       "  <thead>\n",
       "    <tr style=\"text-align: right;\">\n",
       "      <th></th>\n",
       "      <th>Age</th>\n",
       "      <th>Sex</th>\n",
       "      <th>Chest pain type</th>\n",
       "      <th>BP</th>\n",
       "      <th>Cholesterol</th>\n",
       "      <th>Max HR</th>\n",
       "      <th>FBS over 120</th>\n",
       "    </tr>\n",
       "  </thead>\n",
       "  <tbody>\n",
       "    <tr>\n",
       "      <th>count</th>\n",
       "      <td>250.000000</td>\n",
       "      <td>250.000000</td>\n",
       "      <td>250.000000</td>\n",
       "      <td>250.000000</td>\n",
       "      <td>250.000000</td>\n",
       "      <td>250.000000</td>\n",
       "      <td>250.000000</td>\n",
       "    </tr>\n",
       "    <tr>\n",
       "      <th>mean</th>\n",
       "      <td>59.796000</td>\n",
       "      <td>0.664000</td>\n",
       "      <td>3.188000</td>\n",
       "      <td>131.068000</td>\n",
       "      <td>249.140000</td>\n",
       "      <td>149.488000</td>\n",
       "      <td>0.148000</td>\n",
       "    </tr>\n",
       "    <tr>\n",
       "      <th>std</th>\n",
       "      <td>8.494883</td>\n",
       "      <td>0.473286</td>\n",
       "      <td>0.957247</td>\n",
       "      <td>17.860666</td>\n",
       "      <td>51.606563</td>\n",
       "      <td>23.323848</td>\n",
       "      <td>0.355812</td>\n",
       "    </tr>\n",
       "    <tr>\n",
       "      <th>min</th>\n",
       "      <td>45.000000</td>\n",
       "      <td>0.000000</td>\n",
       "      <td>1.000000</td>\n",
       "      <td>94.000000</td>\n",
       "      <td>126.000000</td>\n",
       "      <td>71.000000</td>\n",
       "      <td>0.000000</td>\n",
       "    </tr>\n",
       "    <tr>\n",
       "      <th>25%</th>\n",
       "      <td>53.000000</td>\n",
       "      <td>0.000000</td>\n",
       "      <td>3.000000</td>\n",
       "      <td>120.000000</td>\n",
       "      <td>213.250000</td>\n",
       "      <td>133.000000</td>\n",
       "      <td>0.000000</td>\n",
       "    </tr>\n",
       "    <tr>\n",
       "      <th>50%</th>\n",
       "      <td>60.000000</td>\n",
       "      <td>1.000000</td>\n",
       "      <td>3.000000</td>\n",
       "      <td>130.000000</td>\n",
       "      <td>244.500000</td>\n",
       "      <td>152.500000</td>\n",
       "      <td>0.000000</td>\n",
       "    </tr>\n",
       "    <tr>\n",
       "      <th>75%</th>\n",
       "      <td>67.000000</td>\n",
       "      <td>1.000000</td>\n",
       "      <td>4.000000</td>\n",
       "      <td>140.000000</td>\n",
       "      <td>275.750000</td>\n",
       "      <td>165.750000</td>\n",
       "      <td>0.000000</td>\n",
       "    </tr>\n",
       "    <tr>\n",
       "      <th>max</th>\n",
       "      <td>75.000000</td>\n",
       "      <td>1.000000</td>\n",
       "      <td>4.000000</td>\n",
       "      <td>200.000000</td>\n",
       "      <td>564.000000</td>\n",
       "      <td>202.000000</td>\n",
       "      <td>1.000000</td>\n",
       "    </tr>\n",
       "  </tbody>\n",
       "</table>\n",
       "</div>"
      ],
      "text/plain": [
       "              Age         Sex  Chest pain type          BP  Cholesterol  \\\n",
       "count  250.000000  250.000000       250.000000  250.000000   250.000000   \n",
       "mean    59.796000    0.664000         3.188000  131.068000   249.140000   \n",
       "std      8.494883    0.473286         0.957247   17.860666    51.606563   \n",
       "min     45.000000    0.000000         1.000000   94.000000   126.000000   \n",
       "25%     53.000000    0.000000         3.000000  120.000000   213.250000   \n",
       "50%     60.000000    1.000000         3.000000  130.000000   244.500000   \n",
       "75%     67.000000    1.000000         4.000000  140.000000   275.750000   \n",
       "max     75.000000    1.000000         4.000000  200.000000   564.000000   \n",
       "\n",
       "           Max HR  FBS over 120  \n",
       "count  250.000000    250.000000  \n",
       "mean   149.488000      0.148000  \n",
       "std     23.323848      0.355812  \n",
       "min     71.000000      0.000000  \n",
       "25%    133.000000      0.000000  \n",
       "50%    152.500000      0.000000  \n",
       "75%    165.750000      0.000000  \n",
       "max    202.000000      1.000000  "
      ]
     },
     "execution_count": 1035,
     "metadata": {},
     "output_type": "execute_result"
    }
   ],
   "source": [
    "x_df.describe()"
   ]
  },
  {
   "cell_type": "markdown",
   "id": "89906fe4",
   "metadata": {},
   "source": [
    "###### Here I tried to scale some columns using both MinMaxScaler and Standard Scaler (onlyMinMaxScaler is shown) but later realised that the accuracy of the model didn't improve with scaling"
   ]
  },
  {
   "cell_type": "code",
   "execution_count": 1036,
   "id": "3140316d",
   "metadata": {},
   "outputs": [],
   "source": [
    "# from sklearn.preprocessing import MinMaxScaler\n",
    "# scaler = MinMaxScaler()\n",
    "\n",
    "# age = x_df[\"Age\"].values.reshape(-1,1)\n",
    "# chest_pain_type = x_df[\"Chest pain type\"].values.reshape(-1,1)\n",
    "# bp = x_df[\"BP\"].values.reshape(-1,1)\n",
    "# cholesterol = x_df[\"Cholesterol\"].values.reshape(-1,1)\n",
    "# hr = x_df[\"Max HR\"].values.reshape(-1,1)\n",
    "\n",
    "\n",
    "# age = scaler.fit_transform(age)\n",
    "# chest_pain_type = scaler.fit_transform(chest_pain_type)\n",
    "# bp = scaler.fit_transform(bp)\n",
    "# cholesterol = scaler.fit_transform(cholesterol)\n",
    "# hr = scaler.fit_transform(hr)\n",
    "\n",
    "\n",
    "# age = pd.DataFrame(age, columns = [\"Age_scaled\"])\n",
    "# chest_pain_type = pd.DataFrame(chest_pain_type, columns = [\"Chest_pain_type_scaled\"])\n",
    "# bp = pd.DataFrame(bp, columns = [\"BP_scaled\"])\n",
    "# cholesterol = pd.DataFrame(cholesterol, columns = [\"Cholesterol_scaled\"])\n",
    "# hr = pd.DataFrame(hr, columns = [\"HR_scaled\"])\n",
    "\n",
    "\n",
    "# x_df = pd.concat([x_df, age], axis = \"columns\")\n",
    "# x_df = pd.concat([x_df, chest_pain_type], axis = \"columns\")\n",
    "# x_df = pd.concat([x_df, bp], axis = \"columns\")\n",
    "# x_df = pd.concat([x_df, cholesterol], axis = \"columns\")\n",
    "# x_df = pd.concat([x_df, hr], axis = \"columns\")\n",
    "\n",
    "# x_df = x_df.drop([\"Age\", \"BP\", \"Chest pain type\", \"Cholesterol\", \"Max HR\"], axis = \"columns\")\n",
    "# x_df.describe()"
   ]
  },
  {
   "cell_type": "markdown",
   "id": "7993352f",
   "metadata": {},
   "source": [
    "### Training the Model"
   ]
  },
  {
   "cell_type": "code",
   "execution_count": 1037,
   "id": "208d4174",
   "metadata": {},
   "outputs": [
    {
     "name": "stdout",
     "output_type": "stream",
     "text": [
      "0.8795180722891566\n"
     ]
    }
   ],
   "source": [
    "from sklearn.model_selection import train_test_split\n",
    "from sklearn.naive_bayes import GaussianNB\n",
    "from sklearn.metrics import accuracy_score\n",
    "#importing all the necessary sklearn libraries\n",
    "\n",
    "x_train, x_test, y_train, y_test = train_test_split(x_df, y_df, test_size=0.33)\n",
    "#splitting the dataset into training and testing sets\n",
    "\n",
    "gnb = GaussianNB()\n",
    "gnb.fit(x_train, y_train)\n",
    "best_model = gnb\n",
    "max_accuracy = 0\n",
    "for i in range(200):\n",
    "    x_train, x_test, y_train, y_test = train_test_split(x_df, y_df, test_size=0.33)\n",
    "    gnb = GaussianNB()\n",
    "    gnb.fit(x_train, y_train)\n",
    "    y_pred = gnb.predict(x_test)\n",
    "    accuracy= accuracy_score(y_pred, y_test)\n",
    "    if(max_accuracy < accuracy):\n",
    "        best_model = gnb\n",
    "    max_accuracy = max(max_accuracy, accuracy)\n",
    "#finding out the most accurate model out of the 200 trained models.\n",
    "\n",
    "print(max_accuracy)"
   ]
  },
  {
   "cell_type": "markdown",
   "id": "17138d8f",
   "metadata": {},
   "source": [
    "### Output prediction for the given input"
   ]
  },
  {
   "cell_type": "code",
   "execution_count": 1038,
   "id": "d6237fac",
   "metadata": {},
   "outputs": [
    {
     "name": "stdout",
     "output_type": "stream",
     "text": [
      "Absence\n"
     ]
    }
   ],
   "source": [
    "input = np.array(input)\n",
    "input = input.reshape(1,-1)\n",
    "input = pd.DataFrame(input, columns = ['Age', 'Sex', 'Chest pain type', 'BP', 'Cholesterol', 'Max HR', 'FBS over 120'])\n",
    "pred = best_model.predict(input)\n",
    "if pred == 0:\n",
    "    print('Absence')\n",
    "else:\n",
    "    print('Presence')"
   ]
  }
 ],
 "metadata": {
  "kernelspec": {
   "display_name": "Python 3 (ipykernel)",
   "language": "python",
   "name": "python3"
  },
  "language_info": {
   "codemirror_mode": {
    "name": "ipython",
    "version": 3
   },
   "file_extension": ".py",
   "mimetype": "text/x-python",
   "name": "python",
   "nbconvert_exporter": "python",
   "pygments_lexer": "ipython3",
   "version": "3.9.12"
  }
 },
 "nbformat": 4,
 "nbformat_minor": 5
}
